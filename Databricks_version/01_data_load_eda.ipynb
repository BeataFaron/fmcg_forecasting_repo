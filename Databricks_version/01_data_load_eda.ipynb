{
 "cells": [
  {
   "cell_type": "markdown",
   "metadata": {
    "application/vnd.databricks.v1+cell": {
     "cellMetadata": {},
     "inputWidgets": {},
     "nuid": "ce7feba0-f71f-4085-b0e4-73e24e99c262",
     "showTitle": false,
     "tableResultSettingsMap": {},
     "title": ""
    }
   },
   "source": [
    "\n",
    "#  FMCG Forecasting: Data Load & EDA\n",
    "This notebook loads the raw sales data (2022–2024) and performs exploratory data analysis (EDA) to:\n",
    "- Check schema, missing values, data types\n",
    "- Analyze numerical relationships and correlations\n"
   ]
  },
  {
   "cell_type": "code",
   "execution_count": 0,
   "metadata": {
    "application/vnd.databricks.v1+cell": {
     "cellMetadata": {
      "byteLimit": 2048000,
      "rowLimit": 10000
     },
     "inputWidgets": {},
     "nuid": "b911998b-9460-421f-b027-2075c1d23c60",
     "showTitle": false,
     "tableResultSettingsMap": {},
     "title": ""
    }
   },
   "outputs": [],
   "source": [
    "import sys\n",
    "from utils.load_data import load_data\n",
    "\n",
    "sys.path.append(\"/Workspace/Users/faron.beata@gmail.com/fmcg_forecasting/fmcg_forecasting_repo\")\n",
    "\n",
    "import importlib\n",
    "#importlib.reload(utils.eda_utils)\n",
    "\n",
    "from utils.eda_utils import get_missing_summary, describe_columns, get_unique_counts, value_counts\n",
    "from utils.eda_utils import groupby_summary, plot_grouped, correlation_matrix, run_eda\n"
   ]
  },
  {
   "cell_type": "markdown",
   "metadata": {
    "application/vnd.databricks.v1+cell": {
     "cellMetadata": {},
     "inputWidgets": {},
     "nuid": "b94fcd8b-47e3-42bd-b59d-3d9941ca42c2",
     "showTitle": false,
     "tableResultSettingsMap": {},
     "title": ""
    }
   },
   "source": [
    "## Load dataset"
   ]
  },
  {
   "cell_type": "code",
   "execution_count": 0,
   "metadata": {
    "application/vnd.databricks.v1+cell": {
     "cellMetadata": {
      "byteLimit": 2048000,
      "rowLimit": 10000
     },
     "inputWidgets": {},
     "nuid": "81120334-c9c9-42eb-b6b3-6c1f73e86143",
     "showTitle": false,
     "tableResultSettingsMap": {},
     "title": ""
    }
   },
   "outputs": [],
   "source": [
    "\n",
    "# Load data\n",
    "df = load_data(\"dbfs:/FileStore/fmcg/parquet/FMCG_2022_2024.parquet\", file_format=\"parquet\")\n",
    "df.display()\n"
   ]
  },
  {
   "cell_type": "markdown",
   "metadata": {
    "application/vnd.databricks.v1+cell": {
     "cellMetadata": {},
     "inputWidgets": {},
     "nuid": "3a2dc571-a38c-4025-a1e8-006eb0b9ca92",
     "showTitle": false,
     "tableResultSettingsMap": {},
     "title": ""
    }
   },
   "source": [
    "## Data Overview"
   ]
  },
  {
   "cell_type": "code",
   "execution_count": 0,
   "metadata": {
    "application/vnd.databricks.v1+cell": {
     "cellMetadata": {
      "byteLimit": 2048000,
      "rowLimit": 10000
     },
     "inputWidgets": {},
     "nuid": "e133d1a4-9591-4d98-8e9f-26cf2b6f6b8d",
     "showTitle": false,
     "tableResultSettingsMap": {},
     "title": ""
    }
   },
   "outputs": [],
   "source": [
    "describe = describe_columns(df)\n",
    "missing = get_missing_summary(df)\n",
    "unique = get_unique_counts(df)\n",
    "\n",
    "# Display results\n",
    "display(describe)\n",
    "display(missing)\n",
    "print(unique)\n"
   ]
  },
  {
   "cell_type": "code",
   "execution_count": 0,
   "metadata": {
    "application/vnd.databricks.v1+cell": {
     "cellMetadata": {
      "byteLimit": 2048000,
      "rowLimit": 10000
     },
     "inputWidgets": {},
     "nuid": "6b729d9d-9e1d-49dd-9b23-f308357eaccc",
     "showTitle": false,
     "tableResultSettingsMap": {},
     "title": ""
    }
   },
   "outputs": [],
   "source": [
    "\n",
    "vc = value_counts(df, \"segment\", normalize=True)\n",
    "display(vc)\n",
    "\n",
    "plot_grouped(df, \"segment\", \"units_sold\", agg_func=\"sum\")\n",
    "\n",
    "corr = correlation_matrix(df)\n",
    "\n",
    "if corr is not None:\n",
    "    display(corr)\n"
   ]
  },
  {
   "cell_type": "code",
   "execution_count": 0,
   "metadata": {
    "application/vnd.databricks.v1+cell": {
     "cellMetadata": {
      "byteLimit": 2048000,
      "rowLimit": 10000
     },
     "inputWidgets": {},
     "nuid": "7a96d91d-1a98-4555-87bd-575c2e213aef",
     "showTitle": false,
     "tableResultSettingsMap": {},
     "title": ""
    }
   },
   "outputs": [],
   "source": [
    "run_eda(df)\n"
   ]
  }
 ],
 "metadata": {
  "application/vnd.databricks.v1+notebook": {
   "computePreferences": null,
   "dashboards": [],
   "environmentMetadata": {
    "base_environment": "",
    "environment_version": "2"
   },
   "inputWidgetPreferences": null,
   "language": "python",
   "notebookMetadata": {
    "pythonIndentUnit": 4
   },
   "notebookName": "01_data_load_eda",
   "widgets": {}
  },
  "language_info": {
   "name": "python"
  }
 },
 "nbformat": 4,
 "nbformat_minor": 0
}
