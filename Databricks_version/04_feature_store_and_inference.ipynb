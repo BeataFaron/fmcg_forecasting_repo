{
 "cells": [
  {
   "cell_type": "markdown",
   "metadata": {
    "application/vnd.databricks.v1+cell": {
     "cellMetadata": {},
     "inputWidgets": {},
     "nuid": "09d1c321-45c6-4226-9887-84fbe837d3fc",
     "showTitle": false,
     "tableResultSettingsMap": {},
     "title": ""
    }
   },
   "source": [
    "# FMCG Forecasting: Feature Store & Inference\n",
    "\n",
    "This notebook performs the following key steps in the machine learning pipeline:\n",
    "\n",
    "1. **Prepare and register features**  \n",
    "   - Use engineered daily features for SKU **MI-006**\n",
    "   - Ensure compatibility with Databricks Feature Store\n",
    "   - Create or overwrite a feature table with primary keys\n",
    "\n",
    "2. **Train or load a production-ready model**  \n",
    "   - Use Random Forest or previously trained model\n",
    "   - Optionally register the model in the Databricks Model Registry\n",
    "\n",
    "3. **Run inference on historical data**  \n",
    "   - Join new batch data with feature table\n",
    "   - Predict daily `units_sold` using the registered model\n",
    "\n",
    "4. **Log predictions and optionally update Feature Store**  \n",
    "   - Save batch predictions in Parquet format\n",
    "   - Append predictions to the feature table for future retraining\n",
    "\n",
    "> This notebook simulates how machine learning teams in retail or FMCG use **Feature Store + Model Registry** for scalable, reproducible, and traceable prediction workflows.\n"
   ]
  },
  {
   "cell_type": "markdown",
   "metadata": {
    "application/vnd.databricks.v1+cell": {
     "cellMetadata": {
      "byteLimit": 2048000,
      "rowLimit": 10000
     },
     "inputWidgets": {},
     "nuid": "8c43fee9-ea36-41e7-806e-728d98601646",
     "showTitle": false,
     "tableResultSettingsMap": {},
     "title": ""
    }
   },
   "source": [
    "## Imports\n"
   ]
  },
  {
   "cell_type": "code",
   "execution_count": 0,
   "metadata": {
    "application/vnd.databricks.v1+cell": {
     "cellMetadata": {
      "byteLimit": 2048000,
      "rowLimit": 10000
     },
     "inputWidgets": {},
     "nuid": "632f7469-8fcb-4c27-84cb-95af2a4b7bda",
     "showTitle": false,
     "tableResultSettingsMap": {},
     "title": ""
    }
   },
   "outputs": [],
   "source": [
    "# PySpark + MLflow + Feature Store\n",
    "from pyspark.sql.functions import col\n",
    "from databricks.feature_store import FeatureStoreClient\n",
    "import mlflow\n"
   ]
  },
  {
   "cell_type": "markdown",
   "metadata": {
    "application/vnd.databricks.v1+cell": {
     "cellMetadata": {},
     "inputWidgets": {},
     "nuid": "4e6da9a6-57bc-447e-a00a-a3ae29af108c",
     "showTitle": false,
     "tableResultSettingsMap": {},
     "title": ""
    }
   },
   "source": [
    "## Create features | save to Feature Store"
   ]
  },
  {
   "cell_type": "code",
   "execution_count": 0,
   "metadata": {
    "application/vnd.databricks.v1+cell": {
     "cellMetadata": {
      "byteLimit": 2048000,
      "rowLimit": 10000
     },
     "inputWidgets": {},
     "nuid": "e14fd28a-22ba-4558-906b-d16bc6519d89",
     "showTitle": false,
     "tableResultSettingsMap": {},
     "title": ""
    }
   },
   "outputs": [],
   "source": [
    "# Initialize Feature Store Client\n",
    "fs = FeatureStoreClient()\n"
   ]
  },
  {
   "cell_type": "code",
   "execution_count": 0,
   "metadata": {
    "application/vnd.databricks.v1+cell": {
     "cellMetadata": {
      "byteLimit": 2048000,
      "rowLimit": 10000
     },
     "inputWidgets": {},
     "nuid": "dcc6e4c8-60a1-48d0-b194-a4bfb59c37a8",
     "showTitle": false,
     "tableResultSettingsMap": {},
     "title": ""
    }
   },
   "outputs": [],
   "source": [
    "from utils.forecasting_utils import engineer_features_daily\n",
    "path_daily = \"dbfs:/FileStore/fmcg/parquet/FMCG_2022_2024.parquet\"\n",
    "# Daily\n",
    "df_daily = spark.read.parquet(path_daily).filter(col(\"sku\") == \"MI-006\")\n",
    "\n",
    "df_daily_fe = engineer_features_daily(df_daily)\n",
    "df_daily_fe = df_daily_fe.dropna()"
   ]
  },
  {
   "cell_type": "code",
   "execution_count": 0,
   "metadata": {
    "application/vnd.databricks.v1+cell": {
     "cellMetadata": {
      "byteLimit": 2048000,
      "rowLimit": 10000
     },
     "inputWidgets": {},
     "nuid": "686fddd0-5ef4-432c-8125-c190176564d4",
     "showTitle": false,
     "tableResultSettingsMap": {},
     "title": ""
    }
   },
   "outputs": [],
   "source": [
    "# Define feature table name\n",
    "feature_table_name = f\"fmcg_features_daily\"\n",
    "\n",
    "# Drop if exists (for tests)\n",
    "try:    table = fs.get_table(name=feature_table_name)\n",
    "except Exception:\n",
    "    table = None\n",
    "if table:\n",
    "    fs.drop_table(name=feature_table_name)\n",
    "\n",
    "    fs.drop_table(name=feature_table_name)\n",
    "\n",
    "\n",
    "# Create feature table in Feature Store\n",
    "fs.create_table(\n",
    "    name=feature_table_name,\n",
    "    primary_keys=[\"sku\", \"date\",\"channel\", \"region\",\"pack_type\"],\n",
    "    df=df_daily_fe,\n",
    "    schema=df_daily_fe.schema,\n",
    "    description=\"Daily engineered features for FMCG forecasting\"\n",
    ")\n"
   ]
  }
 ],
 "metadata": {
  "application/vnd.databricks.v1+notebook": {
   "computePreferences": null,
   "dashboards": [],
   "environmentMetadata": {
    "base_environment": "",
    "environment_version": "2"
   },
   "inputWidgetPreferences": null,
   "language": "python",
   "notebookMetadata": {
    "pythonIndentUnit": 4
   },
   "notebookName": "04_feature_store_and_inference",
   "widgets": {}
  },
  "language_info": {
   "name": "python"
  }
 },
 "nbformat": 4,
 "nbformat_minor": 0
}
