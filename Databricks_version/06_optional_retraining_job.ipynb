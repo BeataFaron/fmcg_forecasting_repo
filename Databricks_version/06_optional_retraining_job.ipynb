{
 "cells": [
  {
   "cell_type": "markdown",
   "metadata": {
    "application/vnd.databricks.v1+cell": {
     "cellMetadata": {},
     "inputWidgets": {},
     "nuid": "0cfd045c-0673-4767-995f-bbb40fd910ad",
     "showTitle": false,
     "tableResultSettingsMap": {},
     "title": ""
    }
   },
   "source": [
    "# Optional Retraining Job\n",
    "This notebook retrains the Random Forest model for SKU **MI-006** using historical daily features from the Feature Store.\n",
    "It simulates a production use case where the model is periodically refreshed due to potential data drift or evolving patterns."
   ]
  },
  {
   "cell_type": "markdown",
   "metadata": {
    "application/vnd.databricks.v1+cell": {
     "cellMetadata": {},
     "inputWidgets": {},
     "nuid": "e215090f-80e0-4297-9c47-891b16a39005",
     "showTitle": false,
     "tableResultSettingsMap": {},
     "title": ""
    }
   },
   "source": [
    "## Imports"
   ]
  },
  {
   "cell_type": "code",
   "execution_count": 0,
   "metadata": {
    "application/vnd.databricks.v1+cell": {
     "cellMetadata": {},
     "inputWidgets": {},
     "nuid": "8cfdfd15-b4ee-4808-b05d-6fe2985f9c38",
     "showTitle": false,
     "tableResultSettingsMap": {},
     "title": ""
    }
   },
   "outputs": [],
   "source": [
    "import pandas as pd\n",
    "from databricks.feature_store import FeatureStoreClient\n",
    "from pyspark.sql.functions import col\n",
    "from sklearn.ensemble import RandomForestRegressor\n",
    "from sklearn.model_selection import train_test_split\n",
    "from sklearn.metrics import mean_squared_error\n",
    "import mlflow\n",
    "import mlflow.sklearn\n",
    "from datetime import datetime, timedelta"
   ]
  },
  {
   "cell_type": "markdown",
   "metadata": {
    "application/vnd.databricks.v1+cell": {
     "cellMetadata": {},
     "inputWidgets": {},
     "nuid": "b6410921-4415-4720-ac56-08929fa2e580",
     "showTitle": false,
     "tableResultSettingsMap": {},
     "title": ""
    }
   },
   "source": [
    "## Load data from Feature Store (last 365 days)\n"
   ]
  },
  {
   "cell_type": "code",
   "execution_count": 0,
   "metadata": {
    "application/vnd.databricks.v1+cell": {
     "cellMetadata": {},
     "inputWidgets": {},
     "nuid": "2950ce20-4498-4f41-b4b4-674caa594508",
     "showTitle": false,
     "tableResultSettingsMap": {},
     "title": ""
    }
   },
   "outputs": [],
   "source": [
    "fs = FeatureStoreClient()\n",
    "\n",
    "today = datetime(2025, 1, 7)\n",
    "start_date = today - timedelta(days=365)\n",
    "\n",
    "df_spark = fs.read_table(\"fmcg_features_daily\") \\\n",
    "    .filter((col(\"sku\") == \"MI-006\") & (col(\"date\") >= start_date.strftime(\"%Y-%m-%d\")))"
   ]
  },
  {
   "cell_type": "markdown",
   "metadata": {
    "application/vnd.databricks.v1+cell": {
     "cellMetadata": {},
     "inputWidgets": {},
     "nuid": "f20916cc-4dcf-4833-a4dd-f8ec72192024",
     "showTitle": false,
     "tableResultSettingsMap": {},
     "title": ""
    }
   },
   "source": [
    "## Prepare training data"
   ]
  },
  {
   "cell_type": "code",
   "execution_count": 0,
   "metadata": {
    "application/vnd.databricks.v1+cell": {
     "cellMetadata": {},
     "inputWidgets": {},
     "nuid": "d3ffdc73-94b1-4d84-a0ee-4cb2accc5c9e",
     "showTitle": false,
     "tableResultSettingsMap": {},
     "title": ""
    }
   },
   "outputs": [],
   "source": [
    "#  Convert to pandas\n",
    "df = df_spark.toPandas()\n",
    "\n",
    "#  Feature selection\n",
    "features = [\n",
    "    \"lag_1\", \"lag_2\", \"rolling_mean_4\", \"rolling_std_4\",\n",
    "    \"momentum\", \"avg_by_channel_region\"\n",
    "]\n",
    "\n",
    "df = df.dropna(subset=features + [\"units_sold\"])\n",
    "X = df[features]\n",
    "y = df[\"units_sold\"]\n",
    "\n",
    "#  Train/test split\n",
    "X_train, X_test, y_train, y_test = train_test_split(X, y, test_size=0.2, random_state=42)"
   ]
  },
  {
   "cell_type": "markdown",
   "metadata": {
    "application/vnd.databricks.v1+cell": {
     "cellMetadata": {},
     "inputWidgets": {},
     "nuid": "a4e6d215-8ba2-4c7c-a459-52af8e316a6d",
     "showTitle": false,
     "tableResultSettingsMap": {},
     "title": ""
    }
   },
   "source": [
    "## Retrain model and log to MLflow"
   ]
  },
  {
   "cell_type": "code",
   "execution_count": 0,
   "metadata": {
    "application/vnd.databricks.v1+cell": {
     "cellMetadata": {},
     "inputWidgets": {},
     "nuid": "dc19546f-4983-4a3b-b181-2fdbe0c44301",
     "showTitle": false,
     "tableResultSettingsMap": {},
     "title": ""
    }
   },
   "outputs": [],
   "source": [
    "with mlflow.start_run(run_name=\"retraining_rf_mi006\") as run:\n",
    "    \n",
    "    rf = RandomForestRegressor(n_estimators=100, random_state=42)\n",
    "    rf.fit(X_train, y_train)\n",
    "    \n",
    "    preds = rf.predict(X_test)\n",
    "    rmse = mean_squared_error(y_test, preds, squared=False)\n",
    "    \n",
    "    mlflow.log_metric(\"rmse\", rmse)\n",
    "    mlflow.sklearn.log_model(rf, artifact_path=\"model\")\n",
    "    \n",
    "    print(f\"✅ Model retrained. Run ID: {run.info.run_id}\")\n",
    "    print(f\"📦 Saved at: runs:/{run.info.run_id}/model\")\n",
    "    print(f\"📉 RMSE: {rmse:.3f}\")"
   ]
  },
  {
   "cell_type": "markdown",
   "metadata": {
    "application/vnd.databricks.v1+cell": {
     "cellMetadata": {},
     "inputWidgets": {},
     "nuid": "1b790aa2-7d6e-4b12-b7aa-d4a878417376",
     "showTitle": false,
     "tableResultSettingsMap": {},
     "title": ""
    }
   },
   "source": [
    "## ✅ Summary\n",
    "- Trained on: 365 days of historical daily features for SKU MI-006\n",
    "- Features used: 6 lag-based and engineered features\n",
    "- Model: RandomForestRegressor (sklearn)\n",
    "- Logged to MLflow with automatic versioning\n",
    "- This notebook simulates real-world retraining scenarios in retail/FMCG pipelines."
   ]
  }
 ],
 "metadata": {
  "application/vnd.databricks.v1+notebook": {
   "computePreferences": null,
   "dashboards": [],
   "environmentMetadata": {
    "base_environment": "",
    "environment_version": "2"
   },
   "inputWidgetPreferences": null,
   "language": "python",
   "notebookMetadata": {
    "pythonIndentUnit": 4
   },
   "notebookName": "06_optional_retraining_job",
   "widgets": {}
  },
  "language_info": {
   "name": "python"
  }
 },
 "nbformat": 4,
 "nbformat_minor": 0
}
