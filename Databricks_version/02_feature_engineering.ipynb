{
 "cells": [
  {
   "cell_type": "markdown",
   "metadata": {
    "application/vnd.databricks.v1+cell": {
     "cellMetadata": {},
     "inputWidgets": {},
     "nuid": "3e49ad78-b0d0-4c18-8c35-a76f473a9e77",
     "showTitle": false,
     "tableResultSettingsMap": {},
     "title": ""
    }
   },
   "source": [
    "# FMCG Forecasting: Feature Engineering (Daily & Weekly)\n",
    "\n",
    "This notebook performs both **daily** and **weekly** feature engineering for the FMCG demand forecasting project.\n",
    "\n",
    "### Objectives:\n",
    "- Load raw daily sales data (2022–2024)\n",
    "- Engineer **daily-level features**:\n",
    "  - Lags (`lag_1`, `lag_2`)\n",
    "  - Rolling stats (mean, std)\n",
    "  - Momentum, average by channel & region\n",
    "- Filter the dataset for one key SKU: `MI-006`\n",
    "- Save the enriched daily dataset for future use in real-time inference\n",
    "\n",
    "---\n",
    "\n",
    "### Weekly Aggregation (for classical ML model)\n",
    "- Aggregate daily data to **weekly level**\n",
    "- Extract summary statistics: average demand, price, promotion exposure, etc.\n",
    "- Save weekly dataset in Delta format for modeling\n",
    "\n"
   ]
  },
  {
   "cell_type": "markdown",
   "metadata": {
    "application/vnd.databricks.v1+cell": {
     "cellMetadata": {},
     "inputWidgets": {},
     "nuid": "ffcf659f-2548-4625-b5e3-7e080e8ce830",
     "showTitle": false,
     "tableResultSettingsMap": {},
     "title": ""
    }
   },
   "source": [
    "## Imports"
   ]
  },
  {
   "cell_type": "code",
   "execution_count": 0,
   "metadata": {
    "application/vnd.databricks.v1+cell": {
     "cellMetadata": {
      "byteLimit": 2048000,
      "rowLimit": 10000
     },
     "inputWidgets": {},
     "nuid": "1bd92abc-c583-446c-b165-5a6b81cca3b0",
     "showTitle": false,
     "tableResultSettingsMap": {},
     "title": ""
    }
   },
   "outputs": [],
   "source": [
    "import sys\n",
    "sys.path.append(\"/Workspace/Users/faron.beata@gmail.com/fmcg_forecasting/fmcg_forecasting_repo\")\n",
    "from utils.feature_engineering_utils import create_weekly_features\n",
    "from utils.load_data import load_data\n",
    "from pyspark.sql.functions import col"
   ]
  },
  {
   "cell_type": "markdown",
   "metadata": {
    "application/vnd.databricks.v1+cell": {
     "cellMetadata": {},
     "inputWidgets": {},
     "nuid": "d31ff41f-96e4-4685-bba3-c23f95ff2590",
     "showTitle": false,
     "tableResultSettingsMap": {},
     "title": ""
    }
   },
   "source": [
    "## Load | create features | save as delta"
   ]
  },
  {
   "cell_type": "code",
   "execution_count": 0,
   "metadata": {
    "application/vnd.databricks.v1+cell": {
     "cellMetadata": {
      "byteLimit": 2048000,
      "rowLimit": 10000
     },
     "inputWidgets": {},
     "nuid": "a685e84e-e4d1-4e71-bffc-fbb8fd38f3c4",
     "showTitle": false,
     "tableResultSettingsMap": {},
     "title": ""
    }
   },
   "outputs": [],
   "source": [
    "\n",
    "df_daily = load_data(\"dbfs:/FileStore/fmcg/parquet/FMCG_2022_2024.parquet\", file_format=\"parquet\")\n",
    "\n",
    "# Create weekly features\n",
    "df_weekly_final = create_weekly_features(df_daily)\n",
    "df_weekly_final = df_weekly_final.filter(col(\"sku\") == \"MI-006\")\n",
    "\n",
    "# Save to Delta Table\n",
    "df_weekly_final.write \\\n",
    "    .format(\"delta\") \\\n",
    "    .mode(\"overwrite\") \\\n",
    "    .option(\"overwriteSchema\", \"true\") \\\n",
    "    .save(\"dbfs:/FileStore/fmcg/delta/weekly_features\")\n",
    "\n",
    "\n",
    "df_weekly = spark.read.format(\"delta\").load(\"dbfs:/FileStore/fmcg/delta/weekly_features\")\n",
    "df_weekly.createOrReplaceTempView(\"weekly_features\")"
   ]
  },
  {
   "cell_type": "markdown",
   "metadata": {
    "application/vnd.databricks.v1+cell": {
     "cellMetadata": {},
     "inputWidgets": {},
     "nuid": "bb3c61b4-2d5f-4551-8646-14198e4b3869",
     "showTitle": false,
     "tableResultSettingsMap": {},
     "title": ""
    }
   },
   "source": [
    "## SQL check"
   ]
  },
  {
   "cell_type": "code",
   "execution_count": 0,
   "metadata": {
    "application/vnd.databricks.v1+cell": {
     "cellMetadata": {
      "byteLimit": 2048000,
      "implicitDf": true,
      "rowLimit": 10000
     },
     "inputWidgets": {},
     "nuid": "69c60577-63ac-40ea-ab26-d7ac22e24da6",
     "showTitle": false,
     "tableResultSettingsMap": {
      "0": {
       "dataGridStateBlob": "{\"version\":1,\"tableState\":{\"columnPinning\":{\"left\":[\"#row_number#\"],\"right\":[]},\"columnSizing\":{},\"columnVisibility\":{}},\"settings\":{\"columns\":{}},\"syncTimestamp\":1752498191661}",
       "filterBlob": null,
       "queryPlanFiltersBlob": null,
       "tableResultIndex": 0
      }
     },
     "title": ""
    }
   },
   "outputs": [],
   "source": [
    "%sql\n",
    "-- SQL cell\n",
    "SELECT * FROM weekly_features WHERE year = 2023 LIMIT 10\n"
   ]
  },
  {
   "cell_type": "code",
   "execution_count": 0,
   "metadata": {
    "application/vnd.databricks.v1+cell": {
     "cellMetadata": {
      "byteLimit": 2048000,
      "implicitDf": true,
      "rowLimit": 10000
     },
     "inputWidgets": {},
     "nuid": "d681fc6a-34d1-404d-9b1f-7fa64a9f8e16",
     "showTitle": false,
     "tableResultSettingsMap": {
      "0": {
       "dataGridStateBlob": "{\"version\":1,\"tableState\":{\"columnPinning\":{\"left\":[\"#row_number#\"],\"right\":[]},\"columnSizing\":{},\"columnVisibility\":{}},\"settings\":{\"columns\":{}},\"syncTimestamp\":1752498828735}",
       "filterBlob": null,
       "queryPlanFiltersBlob": null,
       "tableResultIndex": 0
      }
     },
     "title": ""
    }
   },
   "outputs": [],
   "source": [
    "%sql\n",
    "SELECT week, sku, channel, region, units_sold, target_next_week\n",
    "FROM weekly_features\n",
    "WHERE channel = 'Discount' AND year = 2023\n",
    "ORDER BY week\n"
   ]
  }
 ],
 "metadata": {
  "application/vnd.databricks.v1+notebook": {
   "computePreferences": null,
   "dashboards": [],
   "environmentMetadata": {
    "base_environment": "",
    "environment_version": "2"
   },
   "inputWidgetPreferences": null,
   "language": "python",
   "notebookMetadata": {
    "mostRecentlyExecutedCommandWithImplicitDF": {
     "commandId": 6452858717039220,
     "dataframes": [
      "_sqldf"
     ]
    },
    "pythonIndentUnit": 4
   },
   "notebookName": "02_feature_engineering",
   "widgets": {}
  },
  "language_info": {
   "name": "python"
  }
 },
 "nbformat": 4,
 "nbformat_minor": 0
}
