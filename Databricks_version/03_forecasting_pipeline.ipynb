{
 "cells": [
  {
   "cell_type": "markdown",
   "metadata": {
    "application/vnd.databricks.v1+cell": {
     "cellMetadata": {},
     "inputWidgets": {},
     "nuid": "bc9516ef-b0bb-41c1-b26a-0a81c71ea367",
     "showTitle": false,
     "tableResultSettingsMap": {},
     "title": ""
    }
   },
   "source": [
    "# FMCG Forecasting: Modeling Pipeline (Weekly vs Daily)\n",
    "\n",
    "This notebook compares two modeling strategies for FMCG sales forecasting using the SKU `MI-006`:\n",
    "\n",
    "##  Objectives\n",
    "\n",
    "### 1. **Load preprocessed features**  \n",
    "- Daily and weekly features previously generated in `02_feature_engineering.py`.\n",
    "\n",
    "### 2. **Train two models**\n",
    "- **Baseline weekly model** trained on aggregated weekly features.\n",
    "- **Daily model** trained on high-resolution daily features (with lags, momentum, etc.).\n",
    "\n",
    "### 3. **Evaluate**\n",
    "- Aggregate daily predictions to weekly level.\n",
    "- Compare model accuracy using RMSE and MAE.\n",
    "\n",
    "### 4. **Log and register the best model**\n",
    "- Use MLflow to log model performance.\n",
    "- Register the best-performing daily model in Databricks Model Registry.\n",
    "\n",
    "### 5. **Export predictions**\n",
    "- Save daily predictions in both Parquet and CSV formats for downstream use (dashboards, scoring jobs, etc.)\n",
    "\n",
    "---\n",
    "\n",
    "> This notebook simulates a typical modeling pipeline in FMCG and retail forecasting scenarios. It allows teams to benchmark different modeling granularities before going into production.\n"
   ]
  },
  {
   "cell_type": "markdown",
   "metadata": {
    "application/vnd.databricks.v1+cell": {
     "cellMetadata": {},
     "inputWidgets": {},
     "nuid": "4ab98fec-c9fe-4e09-a842-59cdbe239781",
     "showTitle": false,
     "tableResultSettingsMap": {},
     "title": ""
    }
   },
   "source": [
    "## Imports & paths"
   ]
  },
  {
   "cell_type": "code",
   "execution_count": 0,
   "metadata": {
    "application/vnd.databricks.v1+cell": {
     "cellMetadata": {
      "byteLimit": 2048000,
      "rowLimit": 10000
     },
     "inputWidgets": {},
     "nuid": "af846bc3-c23b-4f1d-8369-d3626f84d876",
     "showTitle": false,
     "tableResultSettingsMap": {},
     "title": ""
    }
   },
   "outputs": [],
   "source": [
    "from pyspark.sql import SparkSession\n",
    "from pyspark.sql.functions import col\n",
    "\n",
    "from utils.feature_engineering_utils import create_weekly_features\n",
    "from utils.forecasting_utils import (\n",
    "    time_split,\n",
    "    engineer_features_daily,\n",
    "    aggregate_to_week,\n",
    "    log_model_with_metrics,\n",
    "    train_model\n",
    ")\n",
    "\n",
    "path_weekly = \"dbfs:/FileStore/fmcg/delta/weekly_features\"\n",
    "path_daily = \"dbfs:/FileStore/fmcg/parquet/FMCG_2022_2024.parquet\"\n"
   ]
  },
  {
   "cell_type": "code",
   "execution_count": 0,
   "metadata": {
    "application/vnd.databricks.v1+cell": {
     "cellMetadata": {
      "byteLimit": 2048000,
      "rowLimit": 10000
     },
     "inputWidgets": {},
     "nuid": "d12c2691-b2d6-47d4-a5b9-48cc921b5075",
     "showTitle": false,
     "tableResultSettingsMap": {},
     "title": ""
    }
   },
   "outputs": [],
   "source": [
    "import mlflow\n",
    "user = spark.sql(\"SELECT current_user()\").collect()[0][0]\n",
    "experiment_path = f\"/Users/{user}/mlruns_fmcg_forecasting\"\n",
    "\n",
    "mlflow.set_experiment(experiment_path)"
   ]
  },
  {
   "cell_type": "markdown",
   "metadata": {
    "application/vnd.databricks.v1+cell": {
     "cellMetadata": {},
     "inputWidgets": {},
     "nuid": "9f3bc6f6-4009-476a-8c92-7627489128ce",
     "showTitle": false,
     "tableResultSettingsMap": {},
     "title": ""
    }
   },
   "source": [
    "## Load data"
   ]
  },
  {
   "cell_type": "code",
   "execution_count": 0,
   "metadata": {
    "application/vnd.databricks.v1+cell": {
     "cellMetadata": {
      "byteLimit": 2048000,
      "rowLimit": 10000
     },
     "inputWidgets": {},
     "nuid": "ae65244b-edf8-4910-86de-ed0ee0afa29c",
     "showTitle": false,
     "tableResultSettingsMap": {},
     "title": ""
    }
   },
   "outputs": [],
   "source": [
    "# Weekly\n",
    "df_weekly = spark.read.format(\"delta\").load(path_weekly).filter(col(\"sku\") == \"MI-006\")\n",
    "\n",
    "# Daily\n",
    "df_daily = spark.read.parquet(path_daily).filter(col(\"sku\") == \"MI-006\")\n"
   ]
  },
  {
   "cell_type": "markdown",
   "metadata": {
    "application/vnd.databricks.v1+cell": {
     "cellMetadata": {},
     "inputWidgets": {},
     "nuid": "d7004284-4541-47bb-bf65-96033c95753b",
     "showTitle": false,
     "tableResultSettingsMap": {},
     "title": ""
    }
   },
   "source": [
    "## Feature engineering for daily"
   ]
  },
  {
   "cell_type": "code",
   "execution_count": 0,
   "metadata": {
    "application/vnd.databricks.v1+cell": {
     "cellMetadata": {
      "byteLimit": 2048000,
      "rowLimit": 10000
     },
     "inputWidgets": {},
     "nuid": "ac2c6a70-ddd2-4d62-8d63-b98ddd048853",
     "showTitle": false,
     "tableResultSettingsMap": {},
     "title": ""
    }
   },
   "outputs": [],
   "source": [
    "df_daily_fe = engineer_features_daily(df_daily)\n",
    "df_daily_fe = df_daily_fe.dropna()"
   ]
  },
  {
   "cell_type": "markdown",
   "metadata": {
    "application/vnd.databricks.v1+cell": {
     "cellMetadata": {},
     "inputWidgets": {},
     "nuid": "24f56bac-b56f-4468-90fd-bea53d8e8937",
     "showTitle": false,
     "tableResultSettingsMap": {},
     "title": ""
    }
   },
   "source": [
    "## Baseline model\n"
   ]
  },
  {
   "cell_type": "code",
   "execution_count": 0,
   "metadata": {
    "application/vnd.databricks.v1+cell": {
     "cellMetadata": {
      "byteLimit": 2048000,
      "rowLimit": 10000
     },
     "inputWidgets": {},
     "nuid": "384a6dce-fa8a-4879-a654-f3c9aa310db9",
     "showTitle": false,
     "tableResultSettingsMap": {},
     "title": ""
    }
   },
   "outputs": [],
   "source": [
    "## Baseline Weekly Model\n",
    "from utils.forecasting_utils import train_model, time_split\n",
    "\n",
    "# Features z weekly\n",
    "features_weekly = [\"lag_1\", \"lag_2\", \"rolling_mean_4\", \"momentum\", \"avg_by_channel_region\"]\n",
    "df_weekly=df_weekly.dropna()\n",
    "# Time split \n",
    "train_w, test_w = time_split1(df_weekly, date_col=\"week\", split_ratio=0.8)"
   ]
  },
  {
   "cell_type": "code",
   "execution_count": 0,
   "metadata": {
    "application/vnd.databricks.v1+cell": {
     "cellMetadata": {
      "byteLimit": 2048000,
      "rowLimit": 10000
     },
     "inputWidgets": {},
     "nuid": "4f570157-1f7d-4b8e-baf0-675ec01a5a60",
     "showTitle": false,
     "tableResultSettingsMap": {},
     "title": ""
    }
   },
   "outputs": [],
   "source": [
    "# Training\n",
    "baseline_model, preds_baseline, rmse_base, mae_base = train_model(train_w, test_w, features_weekly, label=\"target_next_week\")"
   ]
  },
  {
   "cell_type": "code",
   "execution_count": 0,
   "metadata": {
    "application/vnd.databricks.v1+cell": {
     "cellMetadata": {
      "byteLimit": 2048000,
      "rowLimit": 10000
     },
     "inputWidgets": {},
     "nuid": "0b48aab2-09bf-47e3-ae40-4a213e06481f",
     "showTitle": false,
     "tableResultSettingsMap": {},
     "title": ""
    }
   },
   "outputs": [],
   "source": [
    "log_model_with_metrics(baseline_model, rmse_base, mae_base, features_weekly, data_type=\"weekly\")\n"
   ]
  },
  {
   "cell_type": "markdown",
   "metadata": {
    "application/vnd.databricks.v1+cell": {
     "cellMetadata": {},
     "inputWidgets": {},
     "nuid": "2015ab86-5f35-4be7-a21a-d49fe3c15ec3",
     "showTitle": false,
     "tableResultSettingsMap": {},
     "title": ""
    }
   },
   "source": [
    "## Train model on daily data\n"
   ]
  },
  {
   "cell_type": "code",
   "execution_count": 0,
   "metadata": {
    "application/vnd.databricks.v1+cell": {
     "cellMetadata": {
      "byteLimit": 2048000,
      "rowLimit": 10000
     },
     "inputWidgets": {},
     "nuid": "177cd74c-1620-424a-99d4-e9b32c364448",
     "showTitle": false,
     "tableResultSettingsMap": {},
     "title": ""
    }
   },
   "outputs": [],
   "source": [
    "train_df, test_df = time_split(df_daily_fe, date_col=\"date\", split_ratio=0.8)"
   ]
  },
  {
   "cell_type": "code",
   "execution_count": 0,
   "metadata": {
    "application/vnd.databricks.v1+cell": {
     "cellMetadata": {
      "byteLimit": 2048000,
      "rowLimit": 10000
     },
     "inputWidgets": {},
     "nuid": "a27b143e-5c10-42be-a29a-7edfbc667764",
     "showTitle": false,
     "tableResultSettingsMap": {},
     "title": ""
    }
   },
   "outputs": [],
   "source": [
    "features = [\"lag_1\", \"lag_2\", \"rolling_mean_4\", \"momentum\", \"avg_by_channel_region\"]\n",
    "model, predictions, rmse, mae = train_model(train_df, test_df, features, label=\"units_sold\")\n"
   ]
  },
  {
   "cell_type": "markdown",
   "metadata": {
    "application/vnd.databricks.v1+cell": {
     "cellMetadata": {},
     "inputWidgets": {},
     "nuid": "b7e98ca3-e389-41cd-8ccc-1d58e6ffe980",
     "showTitle": false,
     "tableResultSettingsMap": {},
     "title": ""
    }
   },
   "source": [
    "## Aggregate daily predictions to weekly\n"
   ]
  },
  {
   "cell_type": "code",
   "execution_count": 0,
   "metadata": {
    "application/vnd.databricks.v1+cell": {
     "cellMetadata": {
      "byteLimit": 2048000,
      "rowLimit": 10000
     },
     "inputWidgets": {},
     "nuid": "ea729a95-ebd8-48a0-b78c-1d528bb96850",
     "showTitle": false,
     "tableResultSettingsMap": {},
     "title": ""
    }
   },
   "outputs": [],
   "source": [
    "df_weekly_eval = aggregate_to_week(predictions, date_col=\"date\", pred_col=\"prediction\", true_col=\"units_sold\")\n"
   ]
  },
  {
   "cell_type": "markdown",
   "metadata": {
    "application/vnd.databricks.v1+cell": {
     "cellMetadata": {},
     "inputWidgets": {},
     "nuid": "222724f2-dcee-448c-9fc9-66e0471d9021",
     "showTitle": false,
     "tableResultSettingsMap": {},
     "title": ""
    }
   },
   "source": [
    "## Evaluate weekly RMSE/MAE\n"
   ]
  },
  {
   "cell_type": "code",
   "execution_count": 0,
   "metadata": {
    "application/vnd.databricks.v1+cell": {
     "cellMetadata": {
      "byteLimit": 2048000,
      "rowLimit": 10000
     },
     "inputWidgets": {},
     "nuid": "16366e80-632f-4fac-b825-440a2a25467b",
     "showTitle": false,
     "tableResultSettingsMap": {},
     "title": ""
    }
   },
   "outputs": [],
   "source": [
    "from pyspark.ml.evaluation import RegressionEvaluator\n",
    "\n",
    "weekly_pd = df_weekly_eval.toPandas()\n",
    "from sklearn.metrics import mean_absolute_error, mean_squared_error\n",
    "import numpy as np\n",
    "\n",
    "rmse_weekly = mean_squared_error(weekly_pd[\"actual\"], weekly_pd[\"predicted\"], squared=False)\n",
    "mae_weekly = mean_absolute_error(weekly_pd[\"actual\"], weekly_pd[\"predicted\"])\n",
    "print(f\"📊 Weekly RMSE: {rmse_weekly:.2f}\")\n",
    "print(f\"📊 Weekly MAE:  {mae_weekly:.2f}\")\n"
   ]
  },
  {
   "cell_type": "markdown",
   "metadata": {
    "application/vnd.databricks.v1+cell": {
     "cellMetadata": {},
     "inputWidgets": {},
     "nuid": "4c131ecd-aebe-4dbf-8381-fb4142cddd3f",
     "showTitle": false,
     "tableResultSettingsMap": {},
     "title": ""
    }
   },
   "source": [
    "## Visualization"
   ]
  },
  {
   "cell_type": "code",
   "execution_count": 0,
   "metadata": {
    "application/vnd.databricks.v1+cell": {
     "cellMetadata": {
      "byteLimit": 2048000,
      "rowLimit": 10000
     },
     "inputWidgets": {},
     "nuid": "8d7e5da9-260e-4d62-a608-848b379fc24f",
     "showTitle": false,
     "tableResultSettingsMap": {},
     "title": ""
    }
   },
   "outputs": [],
   "source": [
    "import matplotlib.pyplot as plt\n",
    "\n",
    "weekly_pd = weekly_pd.sort_values([\"year\", \"week\"])\n",
    "plt.figure(figsize=(12,5))\n",
    "plt.plot(weekly_pd[\"week\"], weekly_pd[\"actual\"], label=\"Actual\", marker=\"o\")\n",
    "plt.plot(weekly_pd[\"week\"], weekly_pd[\"predicted\"], label=\"Predicted\", marker=\"o\", linestyle=\"--\")\n",
    "plt.title(\"Weekly Forecast – Aggregated from Daily RF\")\n",
    "plt.xlabel(\"Week\")\n",
    "plt.ylabel(\"Units Sold\")\n",
    "plt.grid(True)\n",
    "plt.legend()\n",
    "plt.tight_layout()\n",
    "plt.show()\n"
   ]
  },
  {
   "cell_type": "markdown",
   "metadata": {
    "application/vnd.databricks.v1+cell": {
     "cellMetadata": {},
     "inputWidgets": {},
     "nuid": "f3f8cb61-ecd3-4b7c-807d-db0885b41944",
     "showTitle": false,
     "tableResultSettingsMap": {},
     "title": ""
    }
   },
   "source": [
    "# Log model to MLflow"
   ]
  },
  {
   "cell_type": "code",
   "execution_count": 0,
   "metadata": {
    "application/vnd.databricks.v1+cell": {
     "cellMetadata": {},
     "inputWidgets": {},
     "nuid": "a9af52b2-c454-433b-8221-2b2fea5f6984",
     "showTitle": false,
     "tableResultSettingsMap": {},
     "title": ""
    }
   },
   "outputs": [],
   "source": [
    "import mlflow\n",
    "import mlflow.sklearn\n",
    "\n",
    "with mlflow.start_run(run_name=\"Register final daily model\") as run:\n",
    "    mlflow.sklearn.log_model(\n",
    "        sk_model=best_model,\n",
    "        artifact_path=\"model\",\n",
    "        registered_model_name=\"fmcg_rf_daily_model\"\n",
    "    )\n",
    "    mlflow.log_metric(\"rmse\", rmse_best)\n",
    "    mlflow.log_metric(\"mae\", mae_best)\n",
    "    mlflow.log_param(\"features\", features_daily)\n",
    "\n",
    "    print(f\"✅ Model registered in Model Registry: {run.info.run_id}\")\n"
   ]
  },
  {
   "cell_type": "code",
   "execution_count": 0,
   "metadata": {
    "application/vnd.databricks.v1+cell": {
     "cellMetadata": {
      "byteLimit": 2048000,
      "rowLimit": 10000
     },
     "inputWidgets": {},
     "nuid": "40136bd8-3b88-47fd-a52d-9672f96a8321",
     "showTitle": false,
     "tableResultSettingsMap": {},
     "title": ""
    }
   },
   "outputs": [],
   "source": [
    "log_model_with_metrics(model, rmse, mae, features)\n"
   ]
  },
  {
   "cell_type": "markdown",
   "metadata": {
    "application/vnd.databricks.v1+cell": {
     "cellMetadata": {},
     "inputWidgets": {},
     "nuid": "cb39e1f9-dd7c-4083-9cea-1f18fb0ef60d",
     "showTitle": false,
     "tableResultSettingsMap": {},
     "title": ""
    }
   },
   "source": [
    "## Save daily predictions from final model"
   ]
  },
  {
   "cell_type": "code",
   "execution_count": 0,
   "metadata": {
    "application/vnd.databricks.v1+cell": {
     "cellMetadata": {},
     "inputWidgets": {},
     "nuid": "1cb2cc98-2812-4470-9ffe-a994a2e09e9c",
     "showTitle": false,
     "tableResultSettingsMap": {},
     "title": ""
    }
   },
   "outputs": [],
   "source": [
    "\n",
    "df_final_pred = predictions.select(\"sku\", \"date\", \"channel\", \"region\", \"units_sold\", \"prediction\") \\\n",
    "                           .withColumnRenamed(\"prediction\", \"units_sold_pred\")\n",
    "\n",
    "# set saving path\n",
    "latest_date = df_final_pred.agg({\"date\": \"max\"}).collect()[0][0]\n",
    "formatted_date = latest_date.strftime(\"%Y_%m_%d\")\n",
    "\n",
    "output_path = f\"dbfs:/FileStore/fmcg/predictions/final_daily_preds_{formatted_date}.parquet\"\n",
    "\n",
    "# save\n",
    "df_final_pred.write.mode(\"overwrite\").parquet(output_path)\n",
    "\n",
    "print(f\"✅ Saved final daily predictions to: {output_path}\")\n"
   ]
  },
  {
   "cell_type": "code",
   "execution_count": 0,
   "metadata": {
    "application/vnd.databricks.v1+cell": {
     "cellMetadata": {},
     "inputWidgets": {},
     "nuid": "4448a67a-28ea-41c9-bf22-67340f5b0c54",
     "showTitle": false,
     "tableResultSettingsMap": {},
     "title": ""
    }
   },
   "outputs": [],
   "source": [
    "#  export to CSV \n",
    "df_final_pred.toPandas().to_csv(f\"/dbfs/FileStore/fmcg/predictions/final_daily_preds_{formatted_date}.csv\", index=False)\n"
   ]
  }
 ],
 "metadata": {
  "application/vnd.databricks.v1+notebook": {
   "computePreferences": null,
   "dashboards": [],
   "environmentMetadata": {
    "base_environment": "",
    "environment_version": "2"
   },
   "inputWidgetPreferences": null,
   "language": "python",
   "notebookMetadata": {
    "pythonIndentUnit": 4
   },
   "notebookName": "03_forecasting_pipeline",
   "widgets": {}
  },
  "language_info": {
   "name": "python"
  }
 },
 "nbformat": 4,
 "nbformat_minor": 0
}
